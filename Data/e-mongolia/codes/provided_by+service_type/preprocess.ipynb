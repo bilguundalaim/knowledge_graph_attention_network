{
 "cells": [
  {
   "cell_type": "code",
   "execution_count": 1,
   "id": "8c3fc466",
   "metadata": {},
   "outputs": [],
   "source": [
    "import pandas as pd"
   ]
  },
  {
   "cell_type": "code",
   "execution_count": 2,
   "id": "620b2b2f",
   "metadata": {},
   "outputs": [],
   "source": [
    "citizen_df = pd.read_excel('../../excel-files/citizen.xlsx')\n",
    "service_df = pd.read_excel('../../excel-files/emon.service.xlsx')\n",
    "request_df_sheets = pd.read_excel('../../excel-files/request.xlsx', sheet_name=None)"
   ]
  },
  {
   "cell_type": "code",
   "execution_count": 3,
   "id": "d1d8833a",
   "metadata": {},
   "outputs": [],
   "source": [
    "request_df = pd.concat(request_df_sheets.values())"
   ]
  },
  {
   "cell_type": "code",
   "execution_count": 4,
   "id": "0cf40932",
   "metadata": {},
   "outputs": [],
   "source": [
    "request_df.rename(columns={\"createc_date\": \"created_date\", \"service_id\": \"serviceid\"}, inplace=True)\n",
    "service_df.rename(columns={\"_id\": \"serviceid\"}, inplace=True)"
   ]
  },
  {
   "cell_type": "code",
   "execution_count": 5,
   "id": "4aab983c",
   "metadata": {},
   "outputs": [],
   "source": [
    "request_df[\"created_date\"] = pd.to_datetime(request_df[\"created_date\"])"
   ]
  },
  {
   "cell_type": "code",
   "execution_count": 6,
   "id": "63339ede",
   "metadata": {},
   "outputs": [],
   "source": [
    "all_users = set(citizen_df['userid']).union(set(request_df['userid']))\n",
    "all_services = set(service_df['serviceid']).union(set(request_df['serviceid']))"
   ]
  },
  {
   "cell_type": "code",
   "execution_count": 7,
   "id": "0c13ccbd",
   "metadata": {},
   "outputs": [
    {
     "data": {
      "text/plain": [
       "(50000, 2785)"
      ]
     },
     "execution_count": 7,
     "metadata": {},
     "output_type": "execute_result"
    }
   ],
   "source": [
    "len(all_users), len(all_services)"
   ]
  },
  {
   "cell_type": "code",
   "execution_count": 8,
   "id": "79e1924b",
   "metadata": {},
   "outputs": [],
   "source": [
    "user_map = {user_id: idx for idx, user_id in enumerate(sorted(all_users))}\n",
    "service_map = {service_id: idx for idx, service_id in enumerate(sorted(all_services))}"
   ]
  },
  {
   "cell_type": "code",
   "execution_count": 9,
   "id": "1901e9ff",
   "metadata": {},
   "outputs": [],
   "source": [
    "with open('user_list.txt', 'w') as f:\n",
    "    for user, idx in user_map.items():\n",
    "        f.write(f\"{user} {idx}\\n\")\n",
    "\n",
    "with open('item_list.txt', 'w') as f:\n",
    "    for service, idx in service_map.items():\n",
    "        f.write(f\"{service} {idx}\\n\")"
   ]
  },
  {
   "cell_type": "code",
   "execution_count": 10,
   "id": "c14c6a0e",
   "metadata": {},
   "outputs": [],
   "source": [
    "request_df['userid'] = request_df['userid'].map(user_map)\n",
    "request_df['serviceid'] = request_df['serviceid'].map(service_map)"
   ]
  },
  {
   "cell_type": "code",
   "execution_count": 11,
   "id": "214d1e89",
   "metadata": {},
   "outputs": [],
   "source": [
    "request_df = request_df.sort_values(by='created_date')"
   ]
  },
  {
   "cell_type": "code",
   "execution_count": 12,
   "id": "8b5ba045",
   "metadata": {},
   "outputs": [],
   "source": [
    "split_idx = int(len(request_df) * 0.8)\n",
    "train_df = request_df.iloc[:split_idx]\n",
    "test_df = request_df.iloc[split_idx:]"
   ]
  },
  {
   "cell_type": "code",
   "execution_count": 13,
   "id": "03293299",
   "metadata": {},
   "outputs": [],
   "source": [
    "missing_users = set(test_df['userid']) - set(train_df['userid'])\n",
    "if missing_users:\n",
    "    extra_train_data = test_df[test_df['userid'].isin(missing_users)]\n",
    "    train_df = pd.concat([train_df, extra_train_data])\n",
    "    test_df = test_df[~test_df['userid'].isin(missing_users)]"
   ]
  },
  {
   "cell_type": "code",
   "execution_count": 14,
   "id": "2f7292a6",
   "metadata": {},
   "outputs": [],
   "source": [
    "def save_format(filename, data):\n",
    "    grouped = data.groupby('userid')['serviceid'].apply(lambda x: ' '.join(map(str, x)))\n",
    "    with open(filename, 'w') as f:\n",
    "        for user, items in grouped.items():\n",
    "            f.write(f\"{user} {items}\\n\")  \n",
    "save_format('train.txt', train_df)\n",
    "save_format('test.txt', test_df)"
   ]
  },
  {
   "cell_type": "code",
   "execution_count": 15,
   "id": "51d3ec77",
   "metadata": {},
   "outputs": [],
   "source": [
    "num_users = len(user_map)\n",
    "num_items = len(service_map)"
   ]
  },
  {
   "cell_type": "code",
   "execution_count": 16,
   "id": "6963f1ed",
   "metadata": {},
   "outputs": [
    {
     "data": {
      "text/plain": [
       "(442, 8)"
      ]
     },
     "execution_count": 16,
     "metadata": {},
     "output_type": "execute_result"
    }
   ],
   "source": [
    "all_agency = set(service_df['govAgencyId'])\n",
    "all_service_types = set(service_df[\"serviceType\"])\n",
    "len(all_agency), len(all_service_types)"
   ]
  },
  {
   "cell_type": "code",
   "execution_count": 17,
   "id": "e27b00be",
   "metadata": {},
   "outputs": [],
   "source": [
    "kg_entity_map = {agency_id: idx for idx, agency_id in enumerate(sorted(all_agency))}\n",
    "kg_entity_map.update({service_type: idx + len(all_agency) for idx, service_type in enumerate(sorted(all_service_types))})"
   ]
  },
  {
   "cell_type": "code",
   "execution_count": 18,
   "id": "8baa3bfb",
   "metadata": {},
   "outputs": [],
   "source": [
    "entity2id = {}\n",
    "    \n",
    "for service, idx in service_map.items():\n",
    "    entity2id[service] = idx\n",
    "    \n",
    "offset = len(service_map)\n",
    "for other_entity, idx in kg_entity_map.items():\n",
    "    entity2id[other_entity] = idx + offset\n"
   ]
  },
  {
   "cell_type": "code",
   "execution_count": 19,
   "id": "2c362593",
   "metadata": {},
   "outputs": [],
   "source": [
    "relation2id = {\n",
    "    \"provided_by\": 0,\n",
    "    \"type_of\": 1,\n",
    "}\n",
    "\n",
    "kg_triples = []\n",
    "\n",
    "for _, row in service_df.iterrows():\n",
    "    service_id = entity2id[row['serviceid']]\n",
    "    agency_id = entity2id[row['govAgencyId']]\n",
    "    service_type_id = entity2id[row['serviceType']]\n",
    "    kg_triples.append(f\"{service_id} {relation2id['provided_by']} {agency_id}\")\n",
    "    kg_triples.append(f\"{service_id} {relation2id['type_of']} {service_type_id}\")"
   ]
  },
  {
   "cell_type": "code",
   "execution_count": 20,
   "id": "766bb9b2",
   "metadata": {},
   "outputs": [],
   "source": [
    "with open(\"kg.txt\", \"w\") as f:\n",
    "    for triple in kg_triples:\n",
    "        f.write(triple + \"\\n\")\n",
    "\n",
    "with open(\"entity_list.txt\", \"w\") as f:\n",
    "    for ent, eid in entity2id.items():\n",
    "        f.write(f\"{ent} {eid}\\n\")\n",
    "\n",
    "with open(\"relation_list.txt\", \"w\") as f:\n",
    "    for rel, rid in relation2id.items():\n",
    "        f.write(f\"{rel} {rid}\\n\")\n"
   ]
  }
 ],
 "metadata": {
  "kernelspec": {
   "display_name": "base",
   "language": "python",
   "name": "python3"
  },
  "language_info": {
   "codemirror_mode": {
    "name": "ipython",
    "version": 3
   },
   "file_extension": ".py",
   "mimetype": "text/x-python",
   "name": "python",
   "nbconvert_exporter": "python",
   "pygments_lexer": "ipython3",
   "version": "3.12.7"
  }
 },
 "nbformat": 4,
 "nbformat_minor": 5
}
