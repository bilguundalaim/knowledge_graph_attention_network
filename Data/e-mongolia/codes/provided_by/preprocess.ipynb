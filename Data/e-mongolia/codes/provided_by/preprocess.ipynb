{
 "cells": [
  {
   "cell_type": "code",
   "execution_count": 1,
   "id": "8c3fc466",
   "metadata": {},
   "outputs": [],
   "source": [
    "import pandas as pd"
   ]
  },
  {
   "cell_type": "code",
   "execution_count": 2,
   "id": "620b2b2f",
   "metadata": {},
   "outputs": [],
   "source": [
    "citizen_df = pd.read_excel('../../excel-files/citizen.xlsx')\n",
    "service_df = pd.read_excel('../../excel-files/emon.service.xlsx')\n",
    "request_df_sheets = pd.read_excel('../../excel-files/request.xlsx', sheet_name=None)"
   ]
  },
  {
   "cell_type": "code",
   "execution_count": 4,
   "id": "d1d8833a",
   "metadata": {},
   "outputs": [],
   "source": [
    "request_df = pd.concat(request_df_sheets.values())"
   ]
  },
  {
   "cell_type": "code",
   "execution_count": 5,
   "id": "0cf40932",
   "metadata": {},
   "outputs": [],
   "source": [
    "request_df.rename(columns={\"createc_date\": \"created_date\", \"service_id\": \"serviceid\"}, inplace=True)\n",
    "service_df.rename(columns={\"_id\": \"serviceid\"}, inplace=True)"
   ]
  },
  {
   "cell_type": "code",
   "execution_count": 20,
   "id": "dc41a9c3",
   "metadata": {},
   "outputs": [
    {
     "data": {
      "text/plain": [
       "(2620, 949)"
      ]
     },
     "execution_count": 20,
     "metadata": {},
     "output_type": "execute_result"
    }
   ],
   "source": [
    "service_df[\"serviceid\"].nunique(), request_df[\"serviceid\"].nunique()"
   ]
  },
  {
   "cell_type": "code",
   "execution_count": 21,
   "id": "1ecd061a",
   "metadata": {},
   "outputs": [
    {
     "name": "stdout",
     "output_type": "stream",
     "text": [
      "All DataFrames have the same serviceid values: False\n",
      "Common serviceid values: {'5f4497a43b9c5d45bbcd524a', '5db7af603f379544a40cd95c', '6162f29230d778359cacf900', '600f712f473a915031ba33d5', '624136f727a742160027032b', '5d8c97a43666c358f6708ae2', '617602674ba06437e8d76d53', '6265ff9cad493f4db3ac0c0c', '64914670ed9aa21c8d568339', '6194b4a372d08b08b4d77974', '5de76d62880ae667c88c9447', '5f3f90f48c5f60027eee55f4', '61a4dde472d08b08b4d7864f', '61ad6faa9c79b860c8f9f39a', '6237e0dac82a7ea955331ac5', '622ff98127a742160026fcec', '5d8cbabb3666c358f6c026d1', '607ad0b5bd8287630d4e64e0', '628b071837ec447bff234bf5', '5ed87c351cb6477c2b28c40a', '5f439829acba9602a0705c8c', '63282b260ae1d271945eacc5', '62b03ab368b7606c0980b07a', '5d8c99223666c358f6708ae7', '6671338db98f74700f2ecd17', '628b071837ec447bff234be7', '618e0f8872d08b08b4d7734f', '6237e0dac82a7ea955331acb', '6162f29230d778359cacf8cf', '6343cc301e3ca36aa7690cc7', '5ed87b501cb6477c2b28c402', '5d89092e0384df7e7f11858a', '5d8c73da3666c358f655394a', '62a6abd97fc28e1c4b7f1bfd', '628b071837ec447bff234bfb', '5db954b864dd91093a8e4d0d', '622eb76357aec9cc1be525ff', '61ad6faa9c79b860c8f9f3b8', '5f990971346bed32de63a2d8', '5dbbaaa88575f952c5255106', '6188f120f7686e3c3cafdcc7', '5dd2133a8e564c416b85d444', '5df089fe4c720f05836a5044', '633a89c81e3ca36aa7690ac2', '616cd197301d2f20e022ae94', '6265fb61ad493f4db3ac0c00', '622eb76357aec9cc1be52633', '628b071837ec447bff234c01', '5dce68e18e564c416b85d34e', '62398a9227a7421600270148', '617602674ba06437e8d76d35', '5f3f92408c5f60027eee55ff', '5f990076346bed32de63a299', '618897c67a3aaf38349eb12c', '61ad6faa9c79b860c8f9f396', '6281c6c101854c2389c2b111', '5ffd6c6bf305741be12361a6', '61b052595b468f64c4db58ae', '5e140e1a7272475642bad6b8', '5d8c27c83666c358f6553913', '5f98feb1346bed32de63a28e', '5dce649e8e564c416b85d331', '61930569698d64050013691a', '5d8cb4ba3666c358f6c026be', '5f990495346bed32de63a2aa', '65cdac48b3cd2c56268d735e', '649ab8b557250d16d40d8e86', '622eb76357aec9cc1be525ee', '61a444b8da5add2b3873c889', '64562d3ba1ad128cbcc52da7', '619a27bbecca791050bd38a0', '5e3135768f288f2564305a7e', '66fb5a3dddf1b345c997c728', '640fee3c0d60d81000eb4db4', '5f447f933b9c5d45bbcd50d7', '640fee740d60d81000eb4db5', '665937ef82620b0c7655bd73', '5f98fb8a346bed32de63a282', '634f8d481e3ca36aa7690e89', '623006cab6052a672d159dee', '61ad6faa9c79b860c8f9f3d4', '5f3f91298c5f60027eee55f8', '61a5db0c216e68009c623f7f', '6271ebf82a279013acc30e3f', '628b071837ec447bff234c13', '61a444b8da5add2b3873c8b3', '5f98ffd5346bed32de63a296', '61370aa27c42dc7f43f0f368', '65d40f9582c4db6b1f9c7b87', '64562cb0a1ad128cbcc52da5', '5e71d99acd06691020569770', '63d711fc1051cd127bf107b2', '5fe45599874c7b13eeedf56e', '65fbc8789c66647e37dad562', '5f4489783b9c5d45bbcd51a4', '63abb390c512bd03c805e986', '5d8c73133666c358f6553948', '6162f29230d778359cacf8fc', '5dc4d8cfa896a71eeea7f318', '5dd4cdc98e564c416b85dbfb', '6242c74d27a7421600270584', '617602674ba06437e8d76d52', '624118afeced6238562cf92d', '5e72f5a4cd06691020569782', '65386964f5b51c717391f2ac', '618a1c73b8c93a4a8477694a', '617602674ba06437e8d76d65', '627a0275aa646371a837ef94', '5ed87a121cb6477c2b28c3f6', '5ed87b821cb6477c2b28c404', '67298fda3db2e63efca97970', '63685e579bfa7c543905ff02', '618897547a3aaf38349eb0dd', '5e213d0fd13a287cb5a388bd', '650c0fd0b88d5979d568a460', '62afe79519f5594d8947f67c', '5f6aca334790053d9847afa1', '607d299bc796e63a582597cc', '5dce70898e564c416b85d35c', '61ad6faa9c79b860c8f9f3d2', '66d5667009d62d1cf6b13d6b', '614c4a38158d3037875fea76', '6237e0dac82a7ea955331a9c', '5d8b235d3666c358f6171409', '617602674ba06437e8d76d64', '6162f29230d778359cacf8d3', '664db4279809595a70540cab', '6283660da934569ea73c4f21', '5ed87ab01cb6477c2b28c3fc', '61ad6faa9c79b860c8f9f3dc', '600fa673473a915031ba33e2', '5f4485bc3b9c5d45bbcd514c', '673aa6b845d45722ab983131', '65b86f0099525b717271e58a', '62a6abd97fc28e1c4b7f1bf7', '6194d3b072d08b08b4d779c0', '6538c5e0f5b51c717391f2da', '608760b9d71e465b0cb39231', '62789dec0eb1298879f5bdf6', '5f439828acba9602a0705c83', '65e57024fcabbe3209dde03a', '665fc693b98f74700f2ecad3', '671a0a8cff28560c786c03c6', '655ec89b4bc1b422f3e5d581', '62789dec0eb1298879f5be18', '5d8c40bc3666c358f6553939', '6281c6c101854c2389c2b12d', '623958d627a742160027007b', '616cd197301d2f20e022ae7d', '5f9904fb346bed32de63a2af', '5ea0fbb573fe2f0bab86e6fb', '614c38cc19a57a25987f8e2f', '628b071837ec447bff234c2d', '616eac3953ad1423f0994ee0', '6368d4839bfa7c543905ff14', '61b9a6de216e68009c6255fc', '5f6acd424790053d9847afaa', '61ad6faa9c79b860c8f9f3d7', '616cd197301d2f20e022aeb6', '61a444b8da5add2b3873c86d', '6582a831801b94224faf1bae', '62303ad2b6052a672d159e98', '61b0527c5b468f64c4db58af', '622eb76357aec9cc1be525ea', '624118afeced6238562cf92e', '6194ca0b72d08b08b4d779b6', '5f439828acba9602a0705c82', '6271ebf82a279013acc30e54', '633a91b01e3ca36aa7690ad4', '623955ad27a7421600270073', '60078b68473a915031ba32ea', '649aa20257250d16d40d8e4e', '5d8b212a3666c358f6171404', '618897547a3aaf38349eb0cd', '61a444b8da5add2b3873c86e', '628b071837ec447bff234c07', '618897547a3aaf38349eb0cf', '61a6d0009495fe290c7fa5e0', '5f447ee33b9c5d45bbcd50d3', '62789dec0eb1298879f5be0e', '635236c59bfa7c543905fdb8', '62789dec0eb1298879f5be11', '649ab89957250d16d40d8e84', '6266000dad493f4db3ac0c0e', '628b071837ec447bff234c1a', '64fed77590ba315dde7f86ea', '6237ea8333f895e37148c235', '62941bf27f51b86bf3fb1767', '628b071837ec447bff234c16', '62b1362c68b7606c0980b0d9', '5fe45800874c7b13eeedf576', '62a701cb68b7606c0980af7b', '61ad6faa9c79b860c8f9f3a5', '5d8b10f53666c358f659b2ec', '5ed87c9f1cb6477c2b28c40e', '5dbb9d008575f952c5255089', '5dbbac4a8575f952c525511a', '5dc90a4b80da3f1c7c592deb', '628b071837ec447bff234bf8', '60541007d2c8871156abf0aa', '5d8b11713666c358f659b2ed', '6614d6d85b85de707d4b5f5b', '5df2e3d56c998839e1fc815b', '5dc93cd480da3f1c7c592f3c', '623857c027a742160026ff40', '616cd197301d2f20e022aed2', '628b071837ec447bff234c15', '61930569698d640500136925', '65b9fb7523071e2d8a43d1d9', '5ed87bbe1cb6477c2b28c406', '662f7c30b60ad733f0eec025', '6271ebf82a279013acc30e7a', '5f6eb68891f555534f3948ba', '616f841417cc7739985eec23', '5d8cb57d3666c358f6c026c1', '5f9905c8346bed32de63a2b6', '62789dec0eb1298879f5bdef', '612ddf99de442628323bc800', '65e3f841fcabbe3209dde028', '61f24940c211de2acc5882ad', '6237ea8333f895e37148c24e', '638ea57bd0062763de1dc233', '61791a408268b807e8ccf101', '640fedc50d60d81000eb4db3', '5ff304a33108255edd38dc28', '672b2d802425177b5f28b441', '61b08d5aa8e51f3640bc3d59', '6271ebf82a279013acc30e82', '65e69787fcabbe3209dde06c', '6230a4a227a742160026fda6', '6281c6c101854c2389c2b112', '61400aba0b921c48d8e0cd26', '5ed87d2e1cb6477c2b28c414', '622eb76357aec9cc1be52630', '61930569698d64050013690b', '62789dec0eb1298879f5bdf7', '5f6ac3194790053d9847af94', '5d8c405b3666c358f6553938', '653097a3164725017c2e3fb6', '6162f29230d778359cacf8bf', '61f260bbc211de2acc5882b3', '632c19bf1e3ca36aa76908ea', '619a1e62ecca791050bd3892', '662c98f83682377994da6528', '5d8b13cc3666c358f659b2f0', '608bbd407831d27d25ad6b55', '665fc6f3b98f74700f2ecad5', '607a6b1727f0a4228f309ad3', '618897547a3aaf38349eb0ef', '5f990768346bed32de63a2c1', '5f44969c3b9c5d45bbcd5245', '64562d7ba1ad128cbcc52da9', '6271ebf82a279013acc30e87', '628b071837ec447bff234be4', '632921c90ae1d271945eacea', '6481847b07492817983729b7', '6281c6c101854c2389c2b120', '62c28fb8b7c5e816627106cc', '665fc745b98f74700f2ecad8', '614c48ff158d3037875fea72', '5f6acb274790053d9847afa3', '64ffd68790ba315dde7f870a', '61ad6faa9c79b860c8f9f3de', '5f6ac9b24790053d9847af9f', '613f0a970b921c48d8e0cced', '61930569698d640500136917', '6494ff84ed9aa21c8d568380', '6271ebf82a279013acc30e70', '6281c6c101854c2389c2b11d', '62a6abd97fc28e1c4b7f1c0b', '5ed87a731cb6477c2b28c3fa', '5ed87cfb1cb6477c2b28c412', '617602674ba06437e8d76d40', '62386fce27a742160026ff7b', '608bbcc97831d27d25ad6b53', '618e134372d08b08b4d7736d', '65377892f5b51c717391f26d', '60095d48473a915031ba3360', '6239656627a7421600270098', '62660152ad493f4db3ac0c15', '6237e0dac82a7ea955331ab4', '66c85b65f451d63848cb6ca0', '613f19ac0b921c48d8e0cd00', '5f6acbba4790053d9847afa5', '5fe45638874c7b13eeedf572', '5dbbd8d28575f952c525517f', '5e140e527272475642bad6ba', '617602674ba06437e8d76d6b', '6051be84d2c8871156abedd6', '62411926eced6238562cf99e', '64562dc6a1ad128cbcc52dab', '619a2251ecca791050bd3899', '5db954da64dd91093a8e4d0f', '5d8b13863666c358f659b2ef', '5df0957e6c998839e1fc8070', '5e69d6ff17d2904285767ce0', '629d6b221aea62903f25706b', '628ddb37f75c0beac084c89d', '61930569698d64050013691b', '62411926eced6238562cf99a', '61a444b8da5add2b3873c89f', '654b277379dfdbfce781ce65', '5dc4d4d2a896a71eeea7f302', '617602674ba06437e8d76d62', '6271ebf82a279013acc30e57', '6162f29230d778359cacf8f5', '623050bdb6052a672d159edc', '6162f29230d778359cacf8af', '5df095d06c998839e1fc8072', '62789dec0eb1298879f5be0f', '6271ebf82a279013acc30e8b', '633a3e1c1e3ca36aa7690a66', '6237ea8333f895e37148c244', '5dbba9238575f952c52550df', '5e0ee2d37272475642bad6a3', '6281c6c101854c2389c2b11e', '6336eef327f0b54986cb809c', '618a4451b8c93a4a84776957', '5d8c71cf3666c358f6553945', '6162f29230d778359cacf8b1', '62941bf27f51b86bf3fb173a', '616cd197301d2f20e022aea0', '622eb76357aec9cc1be52615', '64f851f39f99f7494a166246', '638dad8fd0062763de1dc201', '61a444b8da5add2b3873c87d', '5f9907b7346bed32de63a2c5', '5fe454f2874c7b13eeedf56a', '61ad6faa9c79b860c8f9f392', '62a6abd97fc28e1c4b7f1c06', '61a444b8da5add2b3873c89d', '65378746f5b51c717391f2a3', '61930569698d6405001368e5', '6271ebf82a279013acc30e8c', '61b9900a669d4f7324e0164a', '6281c6c101854c2389c2b14b', '618897c67a3aaf38349eb13f', '5d8ca4443666c358f6708b00', '62b3be2468b7606c0980b10a', '61ad6faa9c79b860c8f9f3bb', '61ad6faa9c79b860c8f9f3a6', '61930569698d6405001368f4', '5f3f91138c5f60027eee55f6', '633115931e3ca36aa76908f2', '626600ddad493f4db3ac0c13', '618897c67a3aaf38349eb130', '61a444b8da5add2b3873c896', '6493c043ed9aa21c8d56836b', '5d8b144a3666c358f659b2f2', '63282f980ae1d271945eaccc', '63282e650ae1d271945eacca', '5fe459ec874c7b13eeedf57c', '619b30fcbe800445441dd9b6', '618898d97a3aaf38349eb189', '619dfd8e72d08b08b4d78594', '5f44801b3b9c5d45bbcd50df', '5df08e3f4c720f05836a505e', '62d76298b7c5e816627107aa', '63d38c4f1051cd127bf107ae', '6189e126b8c93a4a84776941', '624118afeced6238562cf939', '64f042443175eb4b47c9e0d5', '663c3fcdb00c2306ad5b3a8b', '5f447d023b9c5d45bbcd50bc', '623065e4b6052a672d159f11', '5dba469764dd91093a8e4d2b', '6237ea8333f895e37148c257', '65e02a76fcabbe3209dddfe8', '65f2ebab96216a472076c579', '6242898e89aa93f2da1d7fd4', '62319dd327a742160026fe7d', '60d17c28c5ebc51b50e77710', '66727d28b98f74700f2ecd3e', '5dc8fe3580da3f1c7c592dcc', '66f65644ddf1b345c997c6ef', '5f3f822608f54040d916160c', '5f439828acba9602a0705c79', '614c40e819a57a25987f8e30', '624118afeced6238562cf91f', '6237ea8333f895e37148c26f', '634cc7af1e3ca36aa7690e10', '62789dec0eb1298879f5bdec', '6237ea8333f895e37148c225', '616676a6bf4f9024f2f88eb0', '5e7327d9cd06691020569792', '5f439829acba9602a0705c8a', '5f990904346bed32de63a2d2', '62b2787b68b7606c0980b0e8', '5f83eb32c4091b30ac111c51', '617602674ba06437e8d76d5d', '623a9f2927a7421600270248', '5f6acc914790053d9847afa7', '6178cdae8268b807e8ccef7b', '6357a90c66993b06d1c79c03', '6501562890ba315dde7f8787', '5d8c97763666c358f6708ae1', '656ed5585395ad722204decd', '62afe79519f5594d8947f66b', '5dbbaad58575f952c5255108', '616d36dd1f13a00c10beb96f', '5fe4552c874c7b13eeedf56c', '61a444b8da5add2b3873c880', '5e8d2e931a3a5a50dd385907', '62314db7b6052a672d15a1e0', '624118afeced6238562cf927', '618e1a1172d08b08b4d773a8', '61b15735216e68009c625339', '6007b75d473a915031ba3338', '6162f29230d778359cacf8aa', '627a011caa646371a837ef8c', '616fe6f532093b63e2c40271', '628b071837ec447bff234be9', '62a6abd97fc28e1c4b7f1be8', '5df0937c4c720f05836a507c', '61930569698d6405001368fd', '5f990604346bed32de63a2b8', '5d8c98f43666c358f6708ae6', '6265fc19ad493f4db3ac0c02', '665d9571b98f74700f2eca4b', '5f439828acba9602a0705c7d', '6167b23432093b63e2c3fcb2', '5f98fd7b346bed32de63a287', '61930569698d64050013691c', '6007876a473a915031ba32e6', '5d8b15c33666c358f659b2f6', '615d382a32093b63e2c3f45e', '5d8b14093666c358f659b2f1', '6237e0dac82a7ea955331ab5', '634cef8c1e3ca36aa7690e1f', '6281c6c101854c2389c2b102', '62941bf27f51b86bf3fb1758', '65def4dbfcabbe3209dddfc4', '624165a627a74216002703ba', '613f19f30b921c48d8e0cd02', '61ad6faa9c79b860c8f9f3bf', '618897c67a3aaf38349eb141', '61930569698d640500136907', '62300e4db6052a672d159dfd', '613f1a6c0b921c48d8e0cd04', '6659344582620b0c7655bd6d', '5f44991e3b9c5d45bbcd5253', '62afe79519f5594d8947f69c', '651a37957712ff6186f88f79', '65f2ec3696216a472076c57a', '624118afeced6238562cf934', '61ad6faa9c79b860c8f9f398', '616cd197301d2f20e022ae98', '61484ed290d8f651c034f0eb', '5f4498a43b9c5d45bbcd5251', '5f439828acba9602a0705c77', '5dd4dbf98e564c416b85dc46', '6258e0b227a74216002705ff', '65e02a56fcabbe3209dddfe6', '628b071837ec447bff234be5', '5f6eb58591f555534f3948b6', '65e6d1e2fcabbe3209dde0b6', '60d156a8c5ebc51b50e7770e', '5dce52f98e564c416b85d2c6', '613709b17c42dc7f43f0f366', '5f44981d3b9c5d45bbcd524d', '650c0f96b88d5979d568a45c', '6237e0dac82a7ea955331a99', '61a444b8da5add2b3873c875', '5ffd6c26f305741be12361a4', '623bf3dcb6052a672d15bca5', '66727fdab98f74700f2ecd44', '624118afeced6238562cf935', '61a444b8da5add2b3873c8b4', '618897547a3aaf38349eb0fe', '62a6abd97fc28e1c4b7f1c07', '5ffd6cebf305741be12361a8', '5d8c1d463666c358f6553905', '60078fad473a915031ba32ed', '62789dec0eb1298879f5be27', '6020bec148c88860f201423a', '5df73cbd6c998839e1fc8361', '61baf4db910dc27eeb14caea', '5dbaa7ca64dd91093a8e4f32', '61ad6faa9c79b860c8f9f397', '5ed87cd31cb6477c2b28c410', '628b071837ec447bff234bf3', '5df6df4a6c998839e1fc828e', '6355de089bfa7c543905fddb', '61b9ad29216e68009c625604', '628b071837ec447bff234c18', '6162f29230d778359cacf8a9', '62300b97b6052a672d159df4', '629d6b221aea62903f257077', '5dbbab7c8575f952c5255113', '618898ef7a3aaf38349eb18b', '622ef134b6052a672d159d01', '5f990844346bed32de63a2cb', '61930618698d640500136927', '5dc8b5bba896a71eeea7f34b', '632c1c031e3ca36aa76908ec', '618897547a3aaf38349eb0d8', '62a6abd97fc28e1c4b7f1bfa', '633a3f4f1e3ca36aa7690a68', '63044064cecd00574802dd8c', '6281c6c101854c2389c2b11c', '5d8b20d63666c358f6171402', '634d14ce1e3ca36aa7690e38', '65bb777e23071e2d8a43d214', '62411926eced6238562cf97e', '634e566d1e3ca36aa7690e5d', '61bac273910dc27eeb14cadd', '618897547a3aaf38349eb0da', '61930569698d640500136919', '5dc91e1c80da3f1c7c592e6c', '5dce5ee48e564c416b85d302', '5ffd633ef305741be12361a2', '61930569698d640500136906', '6384845b2d3df828f0c1884e', '617602674ba06437e8d76d6c', '616cd197301d2f20e022ae93', '5f439829acba9602a0705c8d', '5d8c25703666c358f6553910', '6258e05c27a74216002705fc', '65f145eaf9624a35dc9eedda', '61795b7ccbf5da2ebc01fca5', '6281c6c101854c2389c2b11b', '673aa70b45d45722ab983133', '619305eb698d640500136926', '6538c58ef5b51c717391f2d6', '618a442db8c93a4a84776956', '5df31e5b6c998839e1fc817b', '622eb76357aec9cc1be52626', '616cd197301d2f20e022aedf', '6271ebf82a279013acc30e4f', '61ad6faa9c79b860c8f9f3cd', '617602674ba06437e8d76d44', '61528fb590d8f651c034f176', '634ce8ed1e3ca36aa7690e19', '5f4480b83b9c5d45bbcd50e6', '5d8b1c8c3666c358f61713fb', '661e39e8b50c6b7f057ec0a0', '62789dec0eb1298879f5be12', '5d8ca0e23666c358f6708af9', '5dba7b6064dd91093a8e4d98', '5f98ff5e346bed32de63a294', '65e030f2fcabbe3209dddffd', '61ad6faa9c79b860c8f9f3b1', '624118afeced6238562cf936', '62305313b6052a672d159ee3', '62789dec0eb1298879f5bde2', '61a444b8da5add2b3873c871', '628b071837ec447bff234bfc', '6162f29230d778359cacf8ce', '634cb5c91e3ca36aa7690e0d', '62a6abd97fc28e1c4b7f1c0a', '623039f6b6052a672d159e94', '620b04b294d1f52ba70165e7', '6020a85848c88860f20140a0', '663c3ffdb00c2306ad5b3a8d', '6167a2d77c6e614b6c704d61', '61ad6faa9c79b860c8f9f3c0', '62395e1a27a7421600270081', '60e80f74468b69375a65ff11', '6523bca57712ff6186f890ab', '628b071837ec447bff234c08', '5db9141164dd91093a8e4cdc', '62789dec0eb1298879f5be21', '5f4491fb3b9c5d45bbcd520f', '6265f9b5ad493f4db3ac0bfd', '624118afeced6238562cf933', '5d8b158c3666c358f659b2f5', '62afe79519f5594d8947f680', '5dd3651d8e564c416b85d59f', '5dd557e68e564c416b85df8c', '61ad6faa9c79b860c8f9f3b2', '65b8b91c99525b717271e59a', '617602674ba06437e8d76d4e', '5dedbdb892da715034be4a90', '616f832a17cc7739985eec1e', '627a040aaa646371a837ef9c', '6237ea8333f895e37148c264', '613f08c30b921c48d8e0ccea', '617602674ba06437e8d76d31', '616d358c1f13a00c10beb95d', '622eb76357aec9cc1be525f0', '62789dec0eb1298879f5bdd3', '5dd4d3d88e564c416b85dc23', '61a444b8da5add2b3873c8af', '62789dec0eb1298879f5bde5', '6343c1401e3ca36aa7690ca5', '5f990560346bed32de63a2b1', '6368d5009bfa7c543905ff17', '6258e00227a74216002705f9', '65e697bcfcabbe3209dde06e', '5f3decbf2ed0a63534527a41', '62417e8627a7421600270402', '5fe457ba874c7b13eeedf574', '617602674ba06437e8d76d5c', '62789dec0eb1298879f5bde0', '629d6b221aea62903f257042', '627a01caaa646371a837ef90', '646db2bf0c717a06444d8d31', '633a4f2bba6d463960c0cc08', '628b071837ec447bff234bfe', '61ad6faa9c79b860c8f9f3c5', '634e573e1e3ca36aa7690e5f', '640acdeb50c79d1bdaebb448', '5f99015f346bed32de63a29f', '5ed8780d1cb6477c2b28c3e9', '6237ea8333f895e37148c229', '62737c48dd1919fb89ce4179', '6167b1a132093b63e2c3fcac', '616cd197301d2f20e022ae86', '622eb76357aec9cc1be5263f', '665936c582620b0c7655bd6f', '6271ebf82a279013acc30e6b', '664c4eee64d6524042f7ae3d', '6166a6c632093b63e2c3f8bb', '629d6b221aea62903f257037', '60209cd848c88860f2013ff0', '60d03f226e917e0a482da357', '61a444b8da5add2b3873c87f', '5fe455dd874c7b13eeedf570', '6193169c72d08b08b4d7792d', '6630cd67006acf44dd8f3443', '6271ebf82a279013acc30e4d', '6323e1290ae1d271945eac4c', '5dc9115380da3f1c7c592e14', '6281c6c101854c2389c2b135', '5f439828acba9602a0705c81', '61b0c75e216e68009c62530d', '6006cedb473a915031ba32dd', '6066b41a98d87f1ba6ad6320', '61795b7ccbf5da2ebc01fc9f', '61930569698d6405001368fa', '6329231c0ae1d271945eaced', '629d6b221aea62903f257047', '5df2ed6a6c998839e1fc8174', '627a02bbaa646371a837ef96', '5d8b13383666c358f659b2ee', '5df337c76c998839e1fc81ab', '660e311d5b85de707d4b5da7', '61ad6faa9c79b860c8f9f3dd', '62941bf27f51b86bf3fb1770', '6332bc0a1e3ca36aa769091d', '62afe79519f5594d8947f670', '61a444b8da5add2b3873c891', '63872541d0062763de1dc149', '64562ceda1ad128cbcc52da6', '61ad6faa9c79b860c8f9f3c4', '622eb76357aec9cc1be5263a', '650c0f77b88d5979d568a45a', '61930569698d6405001368fb', '61ad6faa9c79b860c8f9f3b4', '628b071837ec447bff234bd6', '618897c67a3aaf38349eb137', '6279fecbaa646371a837ef88', '6659378282620b0c7655bd71', '62a6abd97fc28e1c4b7f1be7', '634cd0091e3ca36aa7690e14', '6281c6c101854c2389c2b123', '61669261bf4f9024f2f88ed4', '5dbbaa218575f952c52550fa', '6281c6c101854c2389c2b110', '62941bf27f51b86bf3fb1766', '6237e0dac82a7ea955331a82', '61930569698d640500136920', '62775ea309d5d61205a19ebd', '65b31a3199525b717271e565', '5d8b23b13666c358f617140a', '5fe476d39f2279665b1db5d5', '622eb76357aec9cc1be525fa', '6006c841473a915031ba32d3', '617602674ba06437e8d76d47', '6242d1835f8ab046e8370f30', '62398af327a742160027014c', '5f99059f346bed32de63a2b4', '5dba7c3c64dd91093a8e4d9b', '5de8a715880ae667c88c9470', '67204a953db2e63efca978ad', '6295821daa646371a837f692', '5d8ca1233666c358f6708afa', '6230525db6052a672d159ee1', '5d8cb6893666c358f6c026c5', '5e316cdb8f288f2564305ab6', '5d8c73a13666c358f6553949', '616d36dd1f13a00c10beb96e', '6271ebf82a279013acc30e62', '65b214bd99525b717271e563', '61ad6faa9c79b860c8f9f3a8', '5ed877711cb6477c2b28c3e5', '6538c4adf5b51c717391f2ce', '62789dec0eb1298879f5bded', '5ed879db1cb6477c2b28c3f4', '6237e0dac82a7ea955331a87', '5e8c27e3ee470d1ffe85ad8e', '5df095456c998839e1fc806e', '6237e0dac82a7ea955331aa2', '6265fe17ad493f4db3ac0c06', '616cd197301d2f20e022aeb9', '62941bf27f51b86bf3fb1772', '5d8b1cd83666c358f61713fc', '62411926eced6238562cf972', '6538c67cf5b51c717391f2de', '5df0a1396c998839e1fc8088', '61930569698d6405001368df', '5f439828acba9602a0705c7e', '5dbb9b2f8575f952c525507c', '6243e20b77b6dc787cfbc289', '5d8c995c3666c358f6708ae8', '5f448f133b9c5d45bbcd51e3', '6281c6c101854c2389c2b0f6', '6530955f164725017c2e3fa7', '618897547a3aaf38349eb0e5', '6265fd7ead493f4db3ac0c04', '5f98fca9346bed32de63a284', '6281c6c101854c2389c2b11f', '632ac01b1e3ca36aa76908b7', '62a6abd97fc28e1c4b7f1c05', '61a444b8da5add2b3873c874', '618897547a3aaf38349eb0d4', '64991f89ed9aa21c8d5683bc', '624d52b377b6dc787cfbcd13', '61ad6faa9c79b860c8f9f3df', '61ad6faa9c79b860c8f9f3d9', '6656920682620b0c7655bc57', '5d8c779c3666c358f655394d', '617602674ba06437e8d76d49', '6237e0dac82a7ea955331aac', '62411926eced6238562cf989', '62941bf27f51b86bf3fb1774', '6281c6c101854c2389c2b12b', '5f98ff05346bed32de63a290', '62411926eced6238562cf97c', '6194cf5272d08b08b4d779bc', '5f439829acba9602a0705c8e', '6281c6c101854c2389c2b132', '624118afeced6238562cf931', '600f732b473a915031ba33d8', '6188ee6cf7686e3c3cafdcba', '61ad6faa9c79b860c8f9f39c', '624177f027a74216002703d0', '66600e7cb98f74700f2ecb1f', '6237e0dac82a7ea955331ac2', '623be88427a74216002702e1', '62304d18b6052a672d159ebf', '5f4490803b9c5d45bbcd51f9', '5fffa3fb35e8b023d94f1e68', '6237e0dac82a7ea955331aad', '6033ac01a754452b9c395413', '6230566227a742160026fd63', '64562d98a1ad128cbcc52daa', '6635f198c56f4a575a0f34d6', '5dce61548e564c416b85d315', '616cd197301d2f20e022ae90', '62789dec0eb1298879f5be04', '62789dec0eb1298879f5bdfb', '5ed879561cb6477c2b28c3f0', '660f6b805b85de707d4b5e6b', '662219fe73668d38ab0d3151', '618e19c372d08b08b4d773a4', '64562d5ca1ad128cbcc52da8', '5d8c28873666c358f6553915', '618a378cb8c93a4a8477694b', '607909427541d726087cbf63', '6728979f3db2e63efca97956', '624118afeced6238562cf92f', '61a444b8da5add2b3873c8a8', '5f4481ac3b9c5d45bbcd50fd', '5e0d6b6d7272475642bad655', '616cd197301d2f20e022aebb', '5f6ace014790053d9847afad', '5dbbaf008575f952c5255142', '63463bb11e3ca36aa7690d22', '623831c827a742160026ff06', '607949517541d726087cbf8d', '62afe79519f5594d8947f68c', '5f98ff43346bed32de63a292', '5f3f935e8c5f60027eee5601', '60764b91fc60673631ce3b50', '5f990811346bed32de63a2c9', '6576bffd801b94224faf1ad3', '6237e0dac82a7ea955331ac1', '5dc917a580da3f1c7c592e33', '5d8b21d83666c358f6171406', '5f3f90358c5f60027eee55f2', '65b88c1e05f8b31fdb50f216', '6230125ab6052a672d159e04', '5df192116c998839e1fc80bd'}\n",
      "Number of common serviceid values: 784\n"
     ]
    }
   ],
   "source": [
    "service_ids_1 = set(service_df['serviceid'].unique())\n",
    "service_ids_2 = set(request_df['serviceid'].unique())\n",
    "\n",
    "all_same = (service_ids_1 == service_ids_2)\n",
    "print(\"All DataFrames have the same serviceid values:\", all_same)\n",
    "\n",
    "common_service_ids = service_ids_1.intersection(service_ids_2)\n",
    "print(\"Common serviceid values:\", common_service_ids)\n",
    "print(\"Number of common serviceid values:\", len(common_service_ids))"
   ]
  },
  {
   "cell_type": "code",
   "execution_count": 23,
   "id": "3e25426e",
   "metadata": {},
   "outputs": [
    {
     "name": "stdout",
     "output_type": "stream",
     "text": [
      "In service_df but not in request_df: 1836\n",
      "In request_df but not in service_df: 165\n"
     ]
    }
   ],
   "source": [
    "print(\"In service_df but not in request_df:\", len(service_ids_1 - service_ids_2))\n",
    "print(\"In request_df but not in service_df:\", len(service_ids_2 - service_ids_1))"
   ]
  },
  {
   "cell_type": "code",
   "execution_count": 24,
   "id": "4aab983c",
   "metadata": {},
   "outputs": [],
   "source": [
    "request_df[\"created_date\"] = pd.to_datetime(request_df[\"created_date\"])"
   ]
  },
  {
   "cell_type": "code",
   "execution_count": 25,
   "id": "63339ede",
   "metadata": {},
   "outputs": [],
   "source": [
    "all_users = set(citizen_df['userid']).union(set(request_df['userid']))\n",
    "all_services = set(service_df['serviceid']).union(set(request_df['serviceid']))"
   ]
  },
  {
   "cell_type": "code",
   "execution_count": 26,
   "id": "0c13ccbd",
   "metadata": {},
   "outputs": [
    {
     "data": {
      "text/plain": [
       "(50000, 2785)"
      ]
     },
     "execution_count": 26,
     "metadata": {},
     "output_type": "execute_result"
    }
   ],
   "source": [
    "len(all_users), len(all_services)"
   ]
  },
  {
   "cell_type": "code",
   "execution_count": 27,
   "id": "79e1924b",
   "metadata": {},
   "outputs": [],
   "source": [
    "user_map = {user_id: idx for idx, user_id in enumerate(sorted(all_users))}\n",
    "service_map = {service_id: idx for idx, service_id in enumerate(sorted(all_services))}"
   ]
  },
  {
   "cell_type": "code",
   "execution_count": 28,
   "id": "1901e9ff",
   "metadata": {},
   "outputs": [],
   "source": [
    "with open('user_list.txt', 'w') as f:\n",
    "    for user, idx in user_map.items():\n",
    "        f.write(f\"{user} {idx}\\n\")\n",
    "\n",
    "with open('item_list.txt', 'w') as f:\n",
    "    for service, idx in service_map.items():\n",
    "        f.write(f\"{service} {idx}\\n\")"
   ]
  },
  {
   "cell_type": "code",
   "execution_count": 29,
   "id": "c14c6a0e",
   "metadata": {},
   "outputs": [],
   "source": [
    "request_df['userid'] = request_df['userid'].map(user_map)\n",
    "request_df['serviceid'] = request_df['serviceid'].map(service_map)"
   ]
  },
  {
   "cell_type": "code",
   "execution_count": 30,
   "id": "214d1e89",
   "metadata": {},
   "outputs": [],
   "source": [
    "request_df = request_df.sort_values(by='created_date')"
   ]
  },
  {
   "cell_type": "code",
   "execution_count": 31,
   "id": "8b5ba045",
   "metadata": {},
   "outputs": [],
   "source": [
    "split_idx = int(len(request_df) * 0.8)\n",
    "train_df = request_df.iloc[:split_idx]\n",
    "test_df = request_df.iloc[split_idx:]"
   ]
  },
  {
   "cell_type": "code",
   "execution_count": 32,
   "id": "03293299",
   "metadata": {},
   "outputs": [],
   "source": [
    "missing_users = set(test_df['userid']) - set(train_df['userid'])\n",
    "if missing_users:\n",
    "    extra_train_data = test_df[test_df['userid'].isin(missing_users)]\n",
    "    train_df = pd.concat([train_df, extra_train_data])\n",
    "    test_df = test_df[~test_df['userid'].isin(missing_users)]"
   ]
  },
  {
   "cell_type": "code",
   "execution_count": 33,
   "id": "2f7292a6",
   "metadata": {},
   "outputs": [],
   "source": [
    "def save_format(filename, data):\n",
    "    grouped = data.groupby('userid')['serviceid'].apply(lambda x: ' '.join(map(str, x)))\n",
    "    with open(filename, 'w') as f:\n",
    "        for user, items in grouped.items():\n",
    "            f.write(f\"{user} {items}\\n\")  \n",
    "save_format('train.txt', train_df)\n",
    "save_format('test.txt', test_df)"
   ]
  },
  {
   "cell_type": "code",
   "execution_count": 34,
   "id": "51d3ec77",
   "metadata": {},
   "outputs": [],
   "source": [
    "num_users = len(user_map)\n",
    "num_items = len(service_map)"
   ]
  },
  {
   "cell_type": "code",
   "execution_count": 35,
   "id": "6963f1ed",
   "metadata": {},
   "outputs": [
    {
     "data": {
      "text/plain": [
       "442"
      ]
     },
     "execution_count": 35,
     "metadata": {},
     "output_type": "execute_result"
    }
   ],
   "source": [
    "all_agency = set(service_df['govAgencyId'])\n",
    "len(all_agency)"
   ]
  },
  {
   "cell_type": "code",
   "execution_count": 36,
   "id": "e27b00be",
   "metadata": {},
   "outputs": [],
   "source": [
    "kg_entity_map = {agency_id: idx for idx, agency_id in enumerate(sorted(all_agency))}"
   ]
  },
  {
   "cell_type": "code",
   "execution_count": 37,
   "id": "8baa3bfb",
   "metadata": {},
   "outputs": [],
   "source": [
    "entity2id = {}\n",
    "    \n",
    "for service, idx in service_map.items():\n",
    "    entity2id[service] = idx\n",
    "    \n",
    "offset = len(service_map)\n",
    "for other_entity, idx in kg_entity_map.items():\n",
    "    entity2id[other_entity] = idx + offset\n"
   ]
  },
  {
   "cell_type": "code",
   "execution_count": 38,
   "id": "2c362593",
   "metadata": {},
   "outputs": [],
   "source": [
    "relation2id = {\n",
    "    \"provided_by\": 0,\n",
    "}\n",
    "\n",
    "kg_triples = []\n",
    "\n",
    "for _, row in service_df.iterrows():\n",
    "    service_id = entity2id[row['serviceid']]\n",
    "    agency_id = entity2id[row['govAgencyId']]\n",
    "    kg_triples.append(f\"{service_id} {relation2id['provided_by']} {agency_id}\")"
   ]
  },
  {
   "cell_type": "code",
   "execution_count": 39,
   "id": "766bb9b2",
   "metadata": {},
   "outputs": [],
   "source": [
    "with open(\"kg_final.txt\", \"w\") as f:\n",
    "    for triple in kg_triples:\n",
    "        f.write(triple + \"\\n\")\n",
    "\n",
    "with open(\"entity_list.txt\", \"w\") as f:\n",
    "    for ent, eid in entity2id.items():\n",
    "        f.write(f\"{ent} {eid}\\n\")\n",
    "\n",
    "with open(\"relation_list.txt\", \"w\") as f:\n",
    "    for rel, rid in relation2id.items():\n",
    "        f.write(f\"{rel} {rid}\\n\")\n"
   ]
  }
 ],
 "metadata": {
  "kernelspec": {
   "display_name": "base",
   "language": "python",
   "name": "python3"
  },
  "language_info": {
   "codemirror_mode": {
    "name": "ipython",
    "version": 3
   },
   "file_extension": ".py",
   "mimetype": "text/x-python",
   "name": "python",
   "nbconvert_exporter": "python",
   "pygments_lexer": "ipython3",
   "version": "3.12.7"
  }
 },
 "nbformat": 4,
 "nbformat_minor": 5
}
