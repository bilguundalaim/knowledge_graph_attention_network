{
 "cells": [
  {
   "cell_type": "code",
   "execution_count": null,
   "metadata": {},
   "outputs": [],
   "source": [
    "import pandas as pd"
   ]
  },
  {
   "cell_type": "code",
   "execution_count": null,
   "metadata": {},
   "outputs": [],
   "source": [
    "df = pd.read_excel('../excel-files/emon.service.xlsx')"
   ]
  },
  {
   "cell_type": "code",
   "execution_count": 12,
   "metadata": {},
   "outputs": [
    {
     "name": "stdout",
     "output_type": "stream",
     "text": [
      "<class 'pandas.core.frame.DataFrame'>\n",
      "RangeIndex: 2620 entries, 0 to 2619\n",
      "Data columns (total 7 columns):\n",
      " #   Column       Non-Null Count  Dtype \n",
      "---  ------       --------------  ----- \n",
      " 0   _id          2620 non-null   object\n",
      " 1   name         2620 non-null   object\n",
      " 2   description  1962 non-null   object\n",
      " 3   govAgencyId  2620 non-null   object\n",
      " 4   serviceType  2620 non-null   object\n",
      " 5   stageType    2620 non-null   object\n",
      " 6   createdDate  2620 non-null   object\n",
      "dtypes: object(7)\n",
      "memory usage: 143.4+ KB\n"
     ]
    }
   ],
   "source": [
    "df.info()"
   ]
  },
  {
   "cell_type": "code",
   "execution_count": 13,
   "metadata": {},
   "outputs": [
    {
     "data": {
      "text/html": [
       "<div>\n",
       "<style scoped>\n",
       "    .dataframe tbody tr th:only-of-type {\n",
       "        vertical-align: middle;\n",
       "    }\n",
       "\n",
       "    .dataframe tbody tr th {\n",
       "        vertical-align: top;\n",
       "    }\n",
       "\n",
       "    .dataframe thead th {\n",
       "        text-align: right;\n",
       "    }\n",
       "</style>\n",
       "<table border=\"1\" class=\"dataframe\">\n",
       "  <thead>\n",
       "    <tr style=\"text-align: right;\">\n",
       "      <th></th>\n",
       "      <th>_id</th>\n",
       "      <th>name</th>\n",
       "      <th>description</th>\n",
       "      <th>govAgencyId</th>\n",
       "      <th>serviceType</th>\n",
       "      <th>stageType</th>\n",
       "      <th>createdDate</th>\n",
       "    </tr>\n",
       "  </thead>\n",
       "  <tbody>\n",
       "    <tr>\n",
       "      <th>0</th>\n",
       "      <td>67b42bb4f35ad11730b1b1a8</td>\n",
       "      <td>Монголбанкнаас зарласан ханшийн лавлагаа</td>\n",
       "      <td>Монгол банкнаас зарласан ханшийн лавлагаа</td>\n",
       "      <td>5d819a3237396004a7816793</td>\n",
       "      <td>ENQUIRY</td>\n",
       "      <td>ONE</td>\n",
       "      <td>2025-02-18 14:42:28.111000</td>\n",
       "    </tr>\n",
       "    <tr>\n",
       "      <th>1</th>\n",
       "      <td>67ac0a56a7e3b127d382ce48</td>\n",
       "      <td>Дүрс бичлэгийн техник хэрэгсэл суурилуулсан та...</td>\n",
       "      <td>Монгол Улсын Аж ахуй үйл ажиллагааны тусгай зө...</td>\n",
       "      <td>61ad739b72d08b08b4d78a60</td>\n",
       "      <td>BOOKING</td>\n",
       "      <td>TWO</td>\n",
       "      <td>2025-02-12 10:41:58.939000</td>\n",
       "    </tr>\n",
       "    <tr>\n",
       "      <th>2</th>\n",
       "      <td>6760f6be2d480450bb5a3a28</td>\n",
       "      <td>Төрийн аудитын байгууллагын аудитын сэдэвт сан...</td>\n",
       "      <td>Хараат бус төрийн аудитын үр дүнд Засгийн газр...</td>\n",
       "      <td>676545be1c3df26dd8b43b39</td>\n",
       "      <td>REGISTRATION</td>\n",
       "      <td>ONE</td>\n",
       "      <td>2024-12-17 11:58:22.755000</td>\n",
       "    </tr>\n",
       "    <tr>\n",
       "      <th>3</th>\n",
       "      <td>673aa70b45d45722ab983133</td>\n",
       "      <td>Төрийн албанд ажиллаж буй албан хаагчийн тодор...</td>\n",
       "      <td>Иргэн Төрийн албан хаагч ажиллаж буй мэдээллээ...</td>\n",
       "      <td>61762b385b42465705c75588</td>\n",
       "      <td>ENQUIRY</td>\n",
       "      <td>ONE</td>\n",
       "      <td>2024-11-28 15:13:40.180000</td>\n",
       "    </tr>\n",
       "    <tr>\n",
       "      <th>4</th>\n",
       "      <td>673aa6b845d45722ab983131</td>\n",
       "      <td>Төрийн албан хаагчийн цалингийн тодорхойлолт</td>\n",
       "      <td>Иргэн Төрийн албан хаагч цалингийн мэдээллээ т...</td>\n",
       "      <td>61762b385b42465705c75588</td>\n",
       "      <td>ENQUIRY</td>\n",
       "      <td>ONE</td>\n",
       "      <td>2024-11-28 15:13:47.103000</td>\n",
       "    </tr>\n",
       "  </tbody>\n",
       "</table>\n",
       "</div>"
      ],
      "text/plain": [
       "                        _id  \\\n",
       "0  67b42bb4f35ad11730b1b1a8   \n",
       "1  67ac0a56a7e3b127d382ce48   \n",
       "2  6760f6be2d480450bb5a3a28   \n",
       "3  673aa70b45d45722ab983133   \n",
       "4  673aa6b845d45722ab983131   \n",
       "\n",
       "                                                name  \\\n",
       "0           Монголбанкнаас зарласан ханшийн лавлагаа   \n",
       "1  Дүрс бичлэгийн техник хэрэгсэл суурилуулсан та...   \n",
       "2  Төрийн аудитын байгууллагын аудитын сэдэвт сан...   \n",
       "3  Төрийн албанд ажиллаж буй албан хаагчийн тодор...   \n",
       "4       Төрийн албан хаагчийн цалингийн тодорхойлолт   \n",
       "\n",
       "                                         description  \\\n",
       "0          Монгол банкнаас зарласан ханшийн лавлагаа   \n",
       "1  Монгол Улсын Аж ахуй үйл ажиллагааны тусгай зө...   \n",
       "2  Хараат бус төрийн аудитын үр дүнд Засгийн газр...   \n",
       "3  Иргэн Төрийн албан хаагч ажиллаж буй мэдээллээ...   \n",
       "4  Иргэн Төрийн албан хаагч цалингийн мэдээллээ т...   \n",
       "\n",
       "                govAgencyId   serviceType stageType  \\\n",
       "0  5d819a3237396004a7816793       ENQUIRY       ONE   \n",
       "1  61ad739b72d08b08b4d78a60       BOOKING       TWO   \n",
       "2  676545be1c3df26dd8b43b39  REGISTRATION       ONE   \n",
       "3  61762b385b42465705c75588       ENQUIRY       ONE   \n",
       "4  61762b385b42465705c75588       ENQUIRY       ONE   \n",
       "\n",
       "                  createdDate  \n",
       "0  2025-02-18 14:42:28.111000  \n",
       "1  2025-02-12 10:41:58.939000  \n",
       "2  2024-12-17 11:58:22.755000  \n",
       "3  2024-11-28 15:13:40.180000  \n",
       "4  2024-11-28 15:13:47.103000  "
      ]
     },
     "execution_count": 13,
     "metadata": {},
     "output_type": "execute_result"
    }
   ],
   "source": [
    "df.head()"
   ]
  },
  {
   "cell_type": "code",
   "execution_count": 18,
   "metadata": {},
   "outputs": [
    {
     "name": "stdout",
     "output_type": "stream",
     "text": [
      "<class 'pandas.core.frame.DataFrame'>\n",
      "Index: 14 entries, 1254 to 1928\n",
      "Data columns (total 7 columns):\n",
      " #   Column       Non-Null Count  Dtype \n",
      "---  ------       --------------  ----- \n",
      " 0   _id          14 non-null     object\n",
      " 1   name         14 non-null     object\n",
      " 2   description  14 non-null     object\n",
      " 3   govAgencyId  14 non-null     object\n",
      " 4   serviceType  14 non-null     object\n",
      " 5   stageType    14 non-null     object\n",
      " 6   createdDate  14 non-null     object\n",
      "dtypes: object(7)\n",
      "memory usage: 896.0+ bytes\n"
     ]
    }
   ],
   "source": [
    "duplicated_services = df[df.duplicated(subset=['name', 'description', 'govAgencyId'], keep=False)]\n",
    "duplicated_services.info()\n",
    "duplicated_services.to_csv('duplicated.csv', index=False)"
   ]
  }
 ],
 "metadata": {
  "kernelspec": {
   "display_name": "base",
   "language": "python",
   "name": "python3"
  },
  "language_info": {
   "codemirror_mode": {
    "name": "ipython",
    "version": 3
   },
   "file_extension": ".py",
   "mimetype": "text/x-python",
   "name": "python",
   "nbconvert_exporter": "python",
   "pygments_lexer": "ipython3",
   "version": "3.12.7"
  }
 },
 "nbformat": 4,
 "nbformat_minor": 2
}
