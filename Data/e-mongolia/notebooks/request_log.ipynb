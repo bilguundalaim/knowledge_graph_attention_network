{
 "cells": [
  {
   "cell_type": "code",
   "execution_count": 2,
   "metadata": {},
   "outputs": [],
   "source": [
    "import pandas as pd"
   ]
  },
  {
   "cell_type": "code",
   "execution_count": null,
   "metadata": {},
   "outputs": [],
   "source": [
    "df = pd.read_excel('../excel-files/request_log.xlsx')"
   ]
  },
  {
   "cell_type": "code",
   "execution_count": 4,
   "metadata": {},
   "outputs": [
    {
     "name": "stdout",
     "output_type": "stream",
     "text": [
      "<class 'pandas.core.frame.DataFrame'>\n",
      "RangeIndex: 1048575 entries, 0 to 1048574\n",
      "Data columns (total 4 columns):\n",
      " #   Column         Non-Null Count    Dtype \n",
      "---  ------         --------------    ----- \n",
      " 0   requestid      1048575 non-null  object\n",
      " 1   status_action  1048575 non-null  object\n",
      " 2   createddate    1048575 non-null  object\n",
      " 3   agencyid       112838 non-null   object\n",
      "dtypes: object(4)\n",
      "memory usage: 32.0+ MB\n"
     ]
    }
   ],
   "source": [
    "df.info()"
   ]
  },
  {
   "cell_type": "code",
   "execution_count": 5,
   "metadata": {},
   "outputs": [
    {
     "data": {
      "text/html": [
       "<div>\n",
       "<style scoped>\n",
       "    .dataframe tbody tr th:only-of-type {\n",
       "        vertical-align: middle;\n",
       "    }\n",
       "\n",
       "    .dataframe tbody tr th {\n",
       "        vertical-align: top;\n",
       "    }\n",
       "\n",
       "    .dataframe thead th {\n",
       "        text-align: right;\n",
       "    }\n",
       "</style>\n",
       "<table border=\"1\" class=\"dataframe\">\n",
       "  <thead>\n",
       "    <tr style=\"text-align: right;\">\n",
       "      <th></th>\n",
       "      <th>requestid</th>\n",
       "      <th>status_action</th>\n",
       "      <th>createddate</th>\n",
       "      <th>agencyid</th>\n",
       "    </tr>\n",
       "  </thead>\n",
       "  <tbody>\n",
       "    <tr>\n",
       "      <th>0</th>\n",
       "      <td>5f5242d2d211cb1d5f2a0bb2</td>\n",
       "      <td>NEW</td>\n",
       "      <td>2020-09-04 21:36:18.733000</td>\n",
       "      <td>5f3f4291addf3d48a3dff5ae</td>\n",
       "    </tr>\n",
       "    <tr>\n",
       "      <th>1</th>\n",
       "      <td>5f5242d2d211cb1d5f2a0bb2</td>\n",
       "      <td>SUBMITTED</td>\n",
       "      <td>2020-09-04 21:38:50.813000</td>\n",
       "      <td>5f3f4291addf3d48a3dff5ae</td>\n",
       "    </tr>\n",
       "    <tr>\n",
       "      <th>2</th>\n",
       "      <td>5f52f75374038f778094e1a5</td>\n",
       "      <td>NEW</td>\n",
       "      <td>2020-09-05 10:26:27.022000</td>\n",
       "      <td>5f3f4291addf3d48a3dff5ae</td>\n",
       "    </tr>\n",
       "    <tr>\n",
       "      <th>3</th>\n",
       "      <td>5f52f75374038f778094e1a5</td>\n",
       "      <td>SUBMITTED</td>\n",
       "      <td>2020-09-05 10:28:31.212000</td>\n",
       "      <td>5f3f4291addf3d48a3dff5ae</td>\n",
       "    </tr>\n",
       "    <tr>\n",
       "      <th>4</th>\n",
       "      <td>5f5316b774038f778094e3ad</td>\n",
       "      <td>NEW</td>\n",
       "      <td>2020-09-05 12:40:23.239000</td>\n",
       "      <td>5f3f4291addf3d48a3dff5ae</td>\n",
       "    </tr>\n",
       "  </tbody>\n",
       "</table>\n",
       "</div>"
      ],
      "text/plain": [
       "                  requestid status_action                 createddate  \\\n",
       "0  5f5242d2d211cb1d5f2a0bb2           NEW  2020-09-04 21:36:18.733000   \n",
       "1  5f5242d2d211cb1d5f2a0bb2     SUBMITTED  2020-09-04 21:38:50.813000   \n",
       "2  5f52f75374038f778094e1a5           NEW  2020-09-05 10:26:27.022000   \n",
       "3  5f52f75374038f778094e1a5     SUBMITTED  2020-09-05 10:28:31.212000   \n",
       "4  5f5316b774038f778094e3ad           NEW  2020-09-05 12:40:23.239000   \n",
       "\n",
       "                   agencyid  \n",
       "0  5f3f4291addf3d48a3dff5ae  \n",
       "1  5f3f4291addf3d48a3dff5ae  \n",
       "2  5f3f4291addf3d48a3dff5ae  \n",
       "3  5f3f4291addf3d48a3dff5ae  \n",
       "4  5f3f4291addf3d48a3dff5ae  "
      ]
     },
     "execution_count": 5,
     "metadata": {},
     "output_type": "execute_result"
    }
   ],
   "source": [
    "df.head()"
   ]
  },
  {
   "cell_type": "code",
   "execution_count": 6,
   "metadata": {},
   "outputs": [
    {
     "data": {
      "text/plain": [
       "status_action\n",
       "NEW                     520473\n",
       "SUBMITTED               506195\n",
       "PROCESSING                7538\n",
       "COMPLETED                 5169\n",
       "APPROVE                   4280\n",
       "PRINTED                   1560\n",
       "REJECTED                  1419\n",
       "PRINTING                   731\n",
       "ATTACH                     370\n",
       "REASSIGN                   346\n",
       "EDIT                       105\n",
       "HANDED_FOR_DELIVERY         95\n",
       "FILE_REQUESTED              75\n",
       "GENERATE_CERTIFICATE        62\n",
       "FILE_ATTACHED               53\n",
       "PENDING                     32\n",
       "APPROVAL_REQUEST            20\n",
       "USER_CANCELED               15\n",
       "EDITED                      11\n",
       "ASSIGN                      10\n",
       "GRANT                       10\n",
       "CREATE_BANK_ACCOUNT          3\n",
       "BANK_ACCOUNT_BALANCE         3\n",
       "Name: count, dtype: int64"
      ]
     },
     "execution_count": 6,
     "metadata": {},
     "output_type": "execute_result"
    }
   ],
   "source": [
    "status_action_counts = df['status_action'].value_counts()\n",
    "status_action_counts"
   ]
  }
 ],
 "metadata": {
  "kernelspec": {
   "display_name": "base",
   "language": "python",
   "name": "python3"
  },
  "language_info": {
   "codemirror_mode": {
    "name": "ipython",
    "version": 3
   },
   "file_extension": ".py",
   "mimetype": "text/x-python",
   "name": "python",
   "nbconvert_exporter": "python",
   "pygments_lexer": "ipython3",
   "version": "3.12.7"
  }
 },
 "nbformat": 4,
 "nbformat_minor": 2
}
