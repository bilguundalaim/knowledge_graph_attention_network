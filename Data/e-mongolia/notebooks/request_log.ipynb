{
 "cells": [
  {
   "cell_type": "code",
   "execution_count": 27,
   "metadata": {},
   "outputs": [],
   "source": [
    "import pandas as pd"
   ]
  },
  {
   "cell_type": "code",
   "execution_count": 28,
   "metadata": {},
   "outputs": [],
   "source": [
    "df = pd.read_excel('../excel-files/request_log.xlsx')"
   ]
  },
  {
   "cell_type": "code",
   "execution_count": 29,
   "metadata": {},
   "outputs": [
    {
     "name": "stdout",
     "output_type": "stream",
     "text": [
      "<class 'pandas.core.frame.DataFrame'>\n",
      "RangeIndex: 1048575 entries, 0 to 1048574\n",
      "Data columns (total 4 columns):\n",
      " #   Column         Non-Null Count    Dtype \n",
      "---  ------         --------------    ----- \n",
      " 0   requestid      1048575 non-null  object\n",
      " 1   status_action  1048575 non-null  object\n",
      " 2   createddate    1048575 non-null  object\n",
      " 3   agencyid       112838 non-null   object\n",
      "dtypes: object(4)\n",
      "memory usage: 32.0+ MB\n"
     ]
    }
   ],
   "source": [
    "df.info()"
   ]
  },
  {
   "cell_type": "code",
   "execution_count": 30,
   "metadata": {},
   "outputs": [
    {
     "data": {
      "text/html": [
       "<div>\n",
       "<style scoped>\n",
       "    .dataframe tbody tr th:only-of-type {\n",
       "        vertical-align: middle;\n",
       "    }\n",
       "\n",
       "    .dataframe tbody tr th {\n",
       "        vertical-align: top;\n",
       "    }\n",
       "\n",
       "    .dataframe thead th {\n",
       "        text-align: right;\n",
       "    }\n",
       "</style>\n",
       "<table border=\"1\" class=\"dataframe\">\n",
       "  <thead>\n",
       "    <tr style=\"text-align: right;\">\n",
       "      <th></th>\n",
       "      <th>requestid</th>\n",
       "      <th>status_action</th>\n",
       "      <th>createddate</th>\n",
       "      <th>agencyid</th>\n",
       "    </tr>\n",
       "  </thead>\n",
       "  <tbody>\n",
       "    <tr>\n",
       "      <th>0</th>\n",
       "      <td>5f5242d2d211cb1d5f2a0bb2</td>\n",
       "      <td>NEW</td>\n",
       "      <td>2020-09-04 21:36:18.733000</td>\n",
       "      <td>5f3f4291addf3d48a3dff5ae</td>\n",
       "    </tr>\n",
       "    <tr>\n",
       "      <th>1</th>\n",
       "      <td>5f5242d2d211cb1d5f2a0bb2</td>\n",
       "      <td>SUBMITTED</td>\n",
       "      <td>2020-09-04 21:38:50.813000</td>\n",
       "      <td>5f3f4291addf3d48a3dff5ae</td>\n",
       "    </tr>\n",
       "    <tr>\n",
       "      <th>2</th>\n",
       "      <td>5f52f75374038f778094e1a5</td>\n",
       "      <td>NEW</td>\n",
       "      <td>2020-09-05 10:26:27.022000</td>\n",
       "      <td>5f3f4291addf3d48a3dff5ae</td>\n",
       "    </tr>\n",
       "    <tr>\n",
       "      <th>3</th>\n",
       "      <td>5f52f75374038f778094e1a5</td>\n",
       "      <td>SUBMITTED</td>\n",
       "      <td>2020-09-05 10:28:31.212000</td>\n",
       "      <td>5f3f4291addf3d48a3dff5ae</td>\n",
       "    </tr>\n",
       "    <tr>\n",
       "      <th>4</th>\n",
       "      <td>5f5316b774038f778094e3ad</td>\n",
       "      <td>NEW</td>\n",
       "      <td>2020-09-05 12:40:23.239000</td>\n",
       "      <td>5f3f4291addf3d48a3dff5ae</td>\n",
       "    </tr>\n",
       "  </tbody>\n",
       "</table>\n",
       "</div>"
      ],
      "text/plain": [
       "                  requestid status_action                 createddate  \\\n",
       "0  5f5242d2d211cb1d5f2a0bb2           NEW  2020-09-04 21:36:18.733000   \n",
       "1  5f5242d2d211cb1d5f2a0bb2     SUBMITTED  2020-09-04 21:38:50.813000   \n",
       "2  5f52f75374038f778094e1a5           NEW  2020-09-05 10:26:27.022000   \n",
       "3  5f52f75374038f778094e1a5     SUBMITTED  2020-09-05 10:28:31.212000   \n",
       "4  5f5316b774038f778094e3ad           NEW  2020-09-05 12:40:23.239000   \n",
       "\n",
       "                   agencyid  \n",
       "0  5f3f4291addf3d48a3dff5ae  \n",
       "1  5f3f4291addf3d48a3dff5ae  \n",
       "2  5f3f4291addf3d48a3dff5ae  \n",
       "3  5f3f4291addf3d48a3dff5ae  \n",
       "4  5f3f4291addf3d48a3dff5ae  "
      ]
     },
     "execution_count": 30,
     "metadata": {},
     "output_type": "execute_result"
    }
   ],
   "source": [
    "df.head()"
   ]
  },
  {
   "cell_type": "code",
   "execution_count": 31,
   "metadata": {},
   "outputs": [
    {
     "data": {
      "text/html": [
       "<div>\n",
       "<style scoped>\n",
       "    .dataframe tbody tr th:only-of-type {\n",
       "        vertical-align: middle;\n",
       "    }\n",
       "\n",
       "    .dataframe tbody tr th {\n",
       "        vertical-align: top;\n",
       "    }\n",
       "\n",
       "    .dataframe thead th {\n",
       "        text-align: right;\n",
       "    }\n",
       "</style>\n",
       "<table border=\"1\" class=\"dataframe\">\n",
       "  <thead>\n",
       "    <tr style=\"text-align: right;\">\n",
       "      <th></th>\n",
       "      <th>requestid</th>\n",
       "      <th>status_action</th>\n",
       "      <th>createddate</th>\n",
       "      <th>agencyid</th>\n",
       "    </tr>\n",
       "  </thead>\n",
       "  <tbody>\n",
       "    <tr>\n",
       "      <th>0</th>\n",
       "      <td>5f5242d2d211cb1d5f2a0bb2</td>\n",
       "      <td>NEW</td>\n",
       "      <td>2020-09-04 21:36:18.733000</td>\n",
       "      <td>5f3f4291addf3d48a3dff5ae</td>\n",
       "    </tr>\n",
       "    <tr>\n",
       "      <th>2</th>\n",
       "      <td>5f52f75374038f778094e1a5</td>\n",
       "      <td>NEW</td>\n",
       "      <td>2020-09-05 10:26:27.022000</td>\n",
       "      <td>5f3f4291addf3d48a3dff5ae</td>\n",
       "    </tr>\n",
       "    <tr>\n",
       "      <th>4</th>\n",
       "      <td>5f5316b774038f778094e3ad</td>\n",
       "      <td>NEW</td>\n",
       "      <td>2020-09-05 12:40:23.239000</td>\n",
       "      <td>5f3f4291addf3d48a3dff5ae</td>\n",
       "    </tr>\n",
       "    <tr>\n",
       "      <th>6</th>\n",
       "      <td>5f5354f65bcf022f554bd6d9</td>\n",
       "      <td>NEW</td>\n",
       "      <td>2020-09-05 17:05:58.618000</td>\n",
       "      <td>5dc277fc9db1d22d102128f6</td>\n",
       "    </tr>\n",
       "    <tr>\n",
       "      <th>8</th>\n",
       "      <td>5f5464ec74038f778094ebe7</td>\n",
       "      <td>NEW</td>\n",
       "      <td>2020-09-06 12:26:20.893000</td>\n",
       "      <td>5f3f4291addf3d48a3dff5ae</td>\n",
       "    </tr>\n",
       "  </tbody>\n",
       "</table>\n",
       "</div>"
      ],
      "text/plain": [
       "                  requestid status_action                 createddate  \\\n",
       "0  5f5242d2d211cb1d5f2a0bb2           NEW  2020-09-04 21:36:18.733000   \n",
       "2  5f52f75374038f778094e1a5           NEW  2020-09-05 10:26:27.022000   \n",
       "4  5f5316b774038f778094e3ad           NEW  2020-09-05 12:40:23.239000   \n",
       "6  5f5354f65bcf022f554bd6d9           NEW  2020-09-05 17:05:58.618000   \n",
       "8  5f5464ec74038f778094ebe7           NEW  2020-09-06 12:26:20.893000   \n",
       "\n",
       "                   agencyid  \n",
       "0  5f3f4291addf3d48a3dff5ae  \n",
       "2  5f3f4291addf3d48a3dff5ae  \n",
       "4  5f3f4291addf3d48a3dff5ae  \n",
       "6  5dc277fc9db1d22d102128f6  \n",
       "8  5f3f4291addf3d48a3dff5ae  "
      ]
     },
     "execution_count": 31,
     "metadata": {},
     "output_type": "execute_result"
    }
   ],
   "source": [
    "df_unique = df.drop_duplicates(subset=['requestid'], keep='first')\n",
    "df_unique.head()"
   ]
  },
  {
   "cell_type": "code",
   "execution_count": 32,
   "metadata": {},
   "outputs": [
    {
     "data": {
      "text/plain": [
       "createddate\n",
       "2024-08-05 14:18:55.168000    2\n",
       "2023-12-12 16:56:59.724000    2\n",
       "2024-11-01 15:43:53.133000    2\n",
       "2022-10-12 14:31:23.633000    2\n",
       "2024-03-02 14:55:09.580000    2\n",
       "                             ..\n",
       "2021-09-28 19:10:15.743000    1\n",
       "2021-11-11 09:22:47.273000    1\n",
       "2021-09-27 15:42:10.812000    1\n",
       "2021-11-10 16:49:08.494000    1\n",
       "2021-09-28 17:29:47.220000    1\n",
       "Name: count, Length: 520451, dtype: int64"
      ]
     },
     "execution_count": 32,
     "metadata": {},
     "output_type": "execute_result"
    }
   ],
   "source": [
    "created_date_count = df_unique['createddate'].value_counts()\n",
    "created_date_count"
   ]
  },
  {
   "cell_type": "code",
   "execution_count": 33,
   "metadata": {},
   "outputs": [
    {
     "name": "stdout",
     "output_type": "stream",
     "text": [
      "season\n",
      "winter    105505\n",
      "spring    127227\n",
      "summer    136618\n",
      "fall      151128\n",
      "Name: count, dtype: int64\n",
      "=========================\n",
      "month\n",
      "12    27800\n",
      "2     29204\n",
      "3     36091\n",
      "7     36381\n",
      "4     40497\n",
      "10    43368\n",
      "11    44310\n",
      "6     47788\n",
      "1     48501\n",
      "5     50639\n",
      "8     52449\n",
      "9     63450\n",
      "Name: count, dtype: int64\n"
     ]
    },
    {
     "name": "stderr",
     "output_type": "stream",
     "text": [
      "/tmp/ipykernel_13640/3389392669.py:1: SettingWithCopyWarning: \n",
      "A value is trying to be set on a copy of a slice from a DataFrame.\n",
      "Try using .loc[row_indexer,col_indexer] = value instead\n",
      "\n",
      "See the caveats in the documentation: https://pandas.pydata.org/pandas-docs/stable/user_guide/indexing.html#returning-a-view-versus-a-copy\n",
      "  df_unique['createddate'] = pd.to_datetime(df_unique['createddate'])\n",
      "/tmp/ipykernel_13640/3389392669.py:13: SettingWithCopyWarning: \n",
      "A value is trying to be set on a copy of a slice from a DataFrame.\n",
      "Try using .loc[row_indexer,col_indexer] = value instead\n",
      "\n",
      "See the caveats in the documentation: https://pandas.pydata.org/pandas-docs/stable/user_guide/indexing.html#returning-a-view-versus-a-copy\n",
      "  df_unique['season'] = df_unique['createddate'].dt.month.apply(get_season)\n",
      "/tmp/ipykernel_13640/3389392669.py:14: SettingWithCopyWarning: \n",
      "A value is trying to be set on a copy of a slice from a DataFrame.\n",
      "Try using .loc[row_indexer,col_indexer] = value instead\n",
      "\n",
      "See the caveats in the documentation: https://pandas.pydata.org/pandas-docs/stable/user_guide/indexing.html#returning-a-view-versus-a-copy\n",
      "  df_unique['month'] = df_unique['createddate'].dt.month\n"
     ]
    }
   ],
   "source": [
    "df_unique['createddate'] = pd.to_datetime(df_unique['createddate'])\n",
    "\n",
    "def get_season(month):\n",
    "  if month in [12, 1, 2]:\n",
    "    return 'winter'\n",
    "  elif month in [3, 4, 5]:\n",
    "    return 'spring'\n",
    "  elif month in [6, 7, 8]:\n",
    "    return 'summer'\n",
    "  else:\n",
    "    return 'fall'\n",
    "\n",
    "df_unique['season'] = df_unique['createddate'].dt.month.apply(get_season)\n",
    "df_unique['month'] = df_unique['createddate'].dt.month\n",
    "\n",
    "season_counts = df_unique['season'].value_counts().sort_values()\n",
    "month_counts = df_unique['month'].value_counts().sort_values()\n",
    "\n",
    "print(season_counts)\n",
    "print(\"=========================\")\n",
    "print(month_counts)"
   ]
  }
 ],
 "metadata": {
  "kernelspec": {
   "display_name": "base",
   "language": "python",
   "name": "python3"
  },
  "language_info": {
   "codemirror_mode": {
    "name": "ipython",
    "version": 3
   },
   "file_extension": ".py",
   "mimetype": "text/x-python",
   "name": "python",
   "nbconvert_exporter": "python",
   "pygments_lexer": "ipython3",
   "version": "3.12.7"
  }
 },
 "nbformat": 4,
 "nbformat_minor": 2
}
