{
 "cells": [
  {
   "cell_type": "code",
   "execution_count": 2,
   "metadata": {},
   "outputs": [],
   "source": [
    "import pandas as pd"
   ]
  },
  {
   "cell_type": "code",
   "execution_count": null,
   "metadata": {},
   "outputs": [],
   "source": [
    "df = pd.read_excel('../excel-files/agency.xlsx')"
   ]
  },
  {
   "cell_type": "code",
   "execution_count": 4,
   "metadata": {},
   "outputs": [
    {
     "name": "stdout",
     "output_type": "stream",
     "text": [
      "<class 'pandas.core.frame.DataFrame'>\n",
      "RangeIndex: 656 entries, 0 to 655\n",
      "Data columns (total 5 columns):\n",
      " #   Column       Non-Null Count  Dtype         \n",
      "---  ------       --------------  -----         \n",
      " 0   _id          656 non-null    object        \n",
      " 1   name         656 non-null    object        \n",
      " 2   isActive     656 non-null    bool          \n",
      " 3   createdDate  637 non-null    datetime64[ns]\n",
      " 4   deleted      656 non-null    bool          \n",
      "dtypes: bool(2), datetime64[ns](1), object(2)\n",
      "memory usage: 16.8+ KB\n"
     ]
    }
   ],
   "source": [
    "df.info()"
   ]
  },
  {
   "cell_type": "code",
   "execution_count": 5,
   "metadata": {},
   "outputs": [
    {
     "data": {
      "text/html": [
       "<div>\n",
       "<style scoped>\n",
       "    .dataframe tbody tr th:only-of-type {\n",
       "        vertical-align: middle;\n",
       "    }\n",
       "\n",
       "    .dataframe tbody tr th {\n",
       "        vertical-align: top;\n",
       "    }\n",
       "\n",
       "    .dataframe thead th {\n",
       "        text-align: right;\n",
       "    }\n",
       "</style>\n",
       "<table border=\"1\" class=\"dataframe\">\n",
       "  <thead>\n",
       "    <tr style=\"text-align: right;\">\n",
       "      <th></th>\n",
       "      <th>_id</th>\n",
       "      <th>name</th>\n",
       "      <th>isActive</th>\n",
       "      <th>createdDate</th>\n",
       "      <th>deleted</th>\n",
       "    </tr>\n",
       "  </thead>\n",
       "  <tbody>\n",
       "    <tr>\n",
       "      <th>0</th>\n",
       "      <td>676545be1c3df26dd8b43b39</td>\n",
       "      <td>Үндэсний аудитын газар</td>\n",
       "      <td>True</td>\n",
       "      <td>2024-12-20 18:24:30.306</td>\n",
       "      <td>False</td>\n",
       "    </tr>\n",
       "    <tr>\n",
       "      <th>1</th>\n",
       "      <td>6729c2f52425177b5f28b3ef</td>\n",
       "      <td>Биеийн тамир спортын улсын хороо</td>\n",
       "      <td>True</td>\n",
       "      <td>2024-11-05 15:02:45.274</td>\n",
       "      <td>False</td>\n",
       "    </tr>\n",
       "    <tr>\n",
       "      <th>2</th>\n",
       "      <td>671745d072ca3c12cfa54049</td>\n",
       "      <td>Цагдаа, Дотоодын цэргийн сургалтын нэгдсэн төв</td>\n",
       "      <td>True</td>\n",
       "      <td>2024-10-22 14:28:00.174</td>\n",
       "      <td>False</td>\n",
       "    </tr>\n",
       "    <tr>\n",
       "      <th>3</th>\n",
       "      <td>66f12bfa72ca3c12cfa53c13</td>\n",
       "      <td>Хөрөнгө оруулалт, худалдааны газар</td>\n",
       "      <td>True</td>\n",
       "      <td>2024-09-23 16:51:38.578</td>\n",
       "      <td>False</td>\n",
       "    </tr>\n",
       "    <tr>\n",
       "      <th>4</th>\n",
       "      <td>66f12bc3e57bf7452c52ed08</td>\n",
       "      <td>Эдийн засаг, хөгжлийн яам</td>\n",
       "      <td>True</td>\n",
       "      <td>2024-09-23 16:50:43.743</td>\n",
       "      <td>False</td>\n",
       "    </tr>\n",
       "  </tbody>\n",
       "</table>\n",
       "</div>"
      ],
      "text/plain": [
       "                        _id                                            name  \\\n",
       "0  676545be1c3df26dd8b43b39                          Үндэсний аудитын газар   \n",
       "1  6729c2f52425177b5f28b3ef                Биеийн тамир спортын улсын хороо   \n",
       "2  671745d072ca3c12cfa54049  Цагдаа, Дотоодын цэргийн сургалтын нэгдсэн төв   \n",
       "3  66f12bfa72ca3c12cfa53c13              Хөрөнгө оруулалт, худалдааны газар   \n",
       "4  66f12bc3e57bf7452c52ed08                       Эдийн засаг, хөгжлийн яам   \n",
       "\n",
       "   isActive             createdDate  deleted  \n",
       "0      True 2024-12-20 18:24:30.306    False  \n",
       "1      True 2024-11-05 15:02:45.274    False  \n",
       "2      True 2024-10-22 14:28:00.174    False  \n",
       "3      True 2024-09-23 16:51:38.578    False  \n",
       "4      True 2024-09-23 16:50:43.743    False  "
      ]
     },
     "execution_count": 5,
     "metadata": {},
     "output_type": "execute_result"
    }
   ],
   "source": [
    "df.head()"
   ]
  },
  {
   "cell_type": "code",
   "execution_count": 6,
   "metadata": {},
   "outputs": [
    {
     "data": {
      "text/plain": [
       "_id             0\n",
       "name            0\n",
       "isActive        0\n",
       "createdDate    19\n",
       "deleted         0\n",
       "dtype: int64"
      ]
     },
     "execution_count": 6,
     "metadata": {},
     "output_type": "execute_result"
    }
   ],
   "source": [
    "df.isnull().sum()"
   ]
  }
 ],
 "metadata": {
  "kernelspec": {
   "display_name": "base",
   "language": "python",
   "name": "python3"
  },
  "language_info": {
   "codemirror_mode": {
    "name": "ipython",
    "version": 3
   },
   "file_extension": ".py",
   "mimetype": "text/x-python",
   "name": "python",
   "nbconvert_exporter": "python",
   "pygments_lexer": "ipython3",
   "version": "3.12.7"
  }
 },
 "nbformat": 4,
 "nbformat_minor": 2
}
