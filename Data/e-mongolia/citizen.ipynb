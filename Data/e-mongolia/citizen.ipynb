{
 "cells": [
  {
   "cell_type": "code",
   "execution_count": 2,
   "metadata": {},
   "outputs": [],
   "source": [
    "import pandas as pd"
   ]
  },
  {
   "cell_type": "code",
   "execution_count": 3,
   "metadata": {},
   "outputs": [],
   "source": [
    "df = pd.read_excel('./citizen.xlsx')"
   ]
  },
  {
   "cell_type": "code",
   "execution_count": 4,
   "metadata": {},
   "outputs": [
    {
     "name": "stdout",
     "output_type": "stream",
     "text": [
      "<class 'pandas.core.frame.DataFrame'>\n",
      "RangeIndex: 50000 entries, 0 to 49999\n",
      "Data columns (total 4 columns):\n",
      " #   Column       Non-Null Count  Dtype  \n",
      "---  ------       --------------  -----  \n",
      " 0   userid       50000 non-null  object \n",
      " 1   createddate  50000 non-null  object \n",
      " 2   gender       49996 non-null  object \n",
      " 3   age          49996 non-null  float64\n",
      "dtypes: float64(1), object(3)\n",
      "memory usage: 1.5+ MB\n"
     ]
    }
   ],
   "source": [
    "df.info()"
   ]
  },
  {
   "cell_type": "code",
   "execution_count": 5,
   "metadata": {},
   "outputs": [
    {
     "data": {
      "text/html": [
       "<div>\n",
       "<style scoped>\n",
       "    .dataframe tbody tr th:only-of-type {\n",
       "        vertical-align: middle;\n",
       "    }\n",
       "\n",
       "    .dataframe tbody tr th {\n",
       "        vertical-align: top;\n",
       "    }\n",
       "\n",
       "    .dataframe thead th {\n",
       "        text-align: right;\n",
       "    }\n",
       "</style>\n",
       "<table border=\"1\" class=\"dataframe\">\n",
       "  <thead>\n",
       "    <tr style=\"text-align: right;\">\n",
       "      <th></th>\n",
       "      <th>userid</th>\n",
       "      <th>createddate</th>\n",
       "      <th>gender</th>\n",
       "      <th>age</th>\n",
       "    </tr>\n",
       "  </thead>\n",
       "  <tbody>\n",
       "    <tr>\n",
       "      <th>0</th>\n",
       "      <td>327cd302d9eea33f3e460be74009c5f1d092d8bc2cc91f...</td>\n",
       "      <td>2020-10-18 02:58:59.204000</td>\n",
       "      <td>Эрэгтэй</td>\n",
       "      <td>34.0</td>\n",
       "    </tr>\n",
       "    <tr>\n",
       "      <th>1</th>\n",
       "      <td>df42cd83d6621ae3dc53f95979585006e194aa39940d7d...</td>\n",
       "      <td>2020-10-18 02:58:59.281000</td>\n",
       "      <td>Эрэгтэй</td>\n",
       "      <td>38.0</td>\n",
       "    </tr>\n",
       "    <tr>\n",
       "      <th>2</th>\n",
       "      <td>0c24924e541eaa5bfe22e5587cf1b00cebfa20e395480d...</td>\n",
       "      <td>2020-10-18 02:58:59.294000</td>\n",
       "      <td>Эрэгтэй</td>\n",
       "      <td>47.0</td>\n",
       "    </tr>\n",
       "    <tr>\n",
       "      <th>3</th>\n",
       "      <td>cb50f6d8de079cd902cf6f200ad350b2fa42d48f51231f...</td>\n",
       "      <td>2020-10-18 02:58:59.304000</td>\n",
       "      <td>Эрэгтэй</td>\n",
       "      <td>30.0</td>\n",
       "    </tr>\n",
       "    <tr>\n",
       "      <th>4</th>\n",
       "      <td>cff98dabecba14996eb02a6deac5bbdf2e26e9529a62cf...</td>\n",
       "      <td>2020-10-18 02:58:59.312000</td>\n",
       "      <td>Эрэгтэй</td>\n",
       "      <td>36.0</td>\n",
       "    </tr>\n",
       "  </tbody>\n",
       "</table>\n",
       "</div>"
      ],
      "text/plain": [
       "                                              userid  \\\n",
       "0  327cd302d9eea33f3e460be74009c5f1d092d8bc2cc91f...   \n",
       "1  df42cd83d6621ae3dc53f95979585006e194aa39940d7d...   \n",
       "2  0c24924e541eaa5bfe22e5587cf1b00cebfa20e395480d...   \n",
       "3  cb50f6d8de079cd902cf6f200ad350b2fa42d48f51231f...   \n",
       "4  cff98dabecba14996eb02a6deac5bbdf2e26e9529a62cf...   \n",
       "\n",
       "                  createddate   gender   age  \n",
       "0  2020-10-18 02:58:59.204000  Эрэгтэй  34.0  \n",
       "1  2020-10-18 02:58:59.281000  Эрэгтэй  38.0  \n",
       "2  2020-10-18 02:58:59.294000  Эрэгтэй  47.0  \n",
       "3  2020-10-18 02:58:59.304000  Эрэгтэй  30.0  \n",
       "4  2020-10-18 02:58:59.312000  Эрэгтэй  36.0  "
      ]
     },
     "execution_count": 5,
     "metadata": {},
     "output_type": "execute_result"
    }
   ],
   "source": [
    "df.head()"
   ]
  }
 ],
 "metadata": {
  "kernelspec": {
   "display_name": "base",
   "language": "python",
   "name": "python3"
  },
  "language_info": {
   "codemirror_mode": {
    "name": "ipython",
    "version": 3
   },
   "file_extension": ".py",
   "mimetype": "text/x-python",
   "name": "python",
   "nbconvert_exporter": "python",
   "pygments_lexer": "ipython3",
   "version": "3.12.7"
  }
 },
 "nbformat": 4,
 "nbformat_minor": 2
}
